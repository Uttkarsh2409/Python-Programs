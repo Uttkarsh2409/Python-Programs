{
 "cells": [
  {
   "cell_type": "code",
   "execution_count": null,
   "metadata": {},
   "outputs": [],
   "source": [
    "#fib series\n",
    "def fib(n):\n",
    "    if n==0 or n==1:\n",
    "        return 1\n",
    "    else:\n",
    "        a = fib(n-1)\n",
    "        b = fib(n-2)\n",
    "        c = a + b\n",
    "        return c\n",
    "    "
   ]
  },
  {
   "cell_type": "code",
   "execution_count": null,
   "metadata": {},
   "outputs": [],
   "source": [
    "fib(5)"
   ]
  },
  {
   "cell_type": "code",
   "execution_count": null,
   "metadata": {},
   "outputs": [],
   "source": [
    "#swap func\n",
    "def swap(mylist1,first,end):\n",
    "    temp = 0\n",
    "    temp = mylist1[end]\n",
    "    mylist1[end] = mylist1[first]\n",
    "    mylist1[first] = temp\n",
    "    return(mylist1)"
   ]
  },
  {
   "cell_type": "code",
   "execution_count": null,
   "metadata": {},
   "outputs": [],
   "source": [
    "#gcd func\n",
    "def Gcd(m,n):\n",
    "    #m = int(input(\"Enter first no.\"))\n",
    "    #n = int(input(\"Enter second no.\"))\n",
    "    if (m == 0 and n !=0) or (m!=0 and n==0):\n",
    "        return max(m,n)\n",
    "    else:\n",
    "        if m>n:\n",
    "            return Gcd(m-n,n)\n",
    "        else:\n",
    "            return Gcd(m,n-m)"
   ]
  },
  {
   "cell_type": "code",
   "execution_count": null,
   "metadata": {},
   "outputs": [],
   "source": [
    "m = int(input(\"Enter first no.\"))\n",
    "n = int(input(\"Enter second no.\"))\n",
    "Gcd(m,n)\n",
    "       \n",
    "    "
   ]
  },
  {
   "cell_type": "code",
   "execution_count": null,
   "metadata": {},
   "outputs": [],
   "source": [
    "#factorial func\n",
    "def fact(n):\n",
    "    if n==0 or n==1:\n",
    "        return 1\n",
    "    else:\n",
    "        return (n*fact(n-1))"
   ]
  },
  {
   "cell_type": "code",
   "execution_count": null,
   "metadata": {},
   "outputs": [],
   "source": [
    "n = int(input(\"enter the no.\"))\n",
    "fact(n)"
   ]
  },
  {
   "cell_type": "code",
   "execution_count": null,
   "metadata": {},
   "outputs": [],
   "source": [
    "#define max and min\n",
    "def max_min(mylist):\n",
    "    max_ele = mylist[0]\n",
    "    min_ele = mylist[0]\n",
    "    print(max_ele)\n",
    "    for i in range(0,n):\n",
    "        if mylist[i] >= max_ele:\n",
    "            max_ele = mylist[i]\n",
    "        else:\n",
    "            min_ele = mylist[i]\n",
    "            \n",
    "    return (max_ele,min_ele)\n",
    "            "
   ]
  },
  {
   "cell_type": "code",
   "execution_count": null,
   "metadata": {},
   "outputs": [],
   "source": [
    "mylist= []\n",
    "n = int(input(\"Enter the no. elements you want in your list:\"))\n",
    "for i in range(0,n):\n",
    "    ele = int(input())\n",
    "    mylist.append(ele)\n",
    "print(mylist)    \n",
    "max_min(mylist)"
   ]
  },
  {
   "cell_type": "code",
   "execution_count": null,
   "metadata": {},
   "outputs": [],
   "source": [
    "#using DAC\n",
    "new_list =[]\n",
    "def max_min(mylist,i,j,max_ele,min_ele):\n",
    "    if i==j:\n",
    "        if max_ele<mylist[i]:\n",
    "            max_ele = mylist[i]\n",
    "        if min_ele>mylist[j]:\n",
    "            min_ele = mylist[j]\n",
    "        #max_ele = mylist[i]\n",
    "        #min_ele = mylist[i]\n",
    "        return(max_ele,min_ele)\n",
    "        #new_list.append(i)\n",
    "        #return(new_list)\n",
    "    elif i == j-1:\n",
    "        if mylist[i] > mylist[j]:\n",
    "            if mylist[i]>max_ele:\n",
    "                max_ele = mylist[i]\n",
    "            if mylist[j]<min_ele:\n",
    "                min_ele = mylist[j]\n",
    "        else:\n",
    "            if mylist[j]>max_ele:\n",
    "                max_ele = mylist[j]\n",
    "            if mylist[i]<min_ele:\n",
    "                min_ele = mylist[i]\n",
    "        return(max_ele,min_ele)    \n",
    "    else:\n",
    "        mid = (i+j)//2\n",
    "        #max1 = min1 = max2 = min2 = 1\n",
    "        (max_ele,min_ele) =   max_min(mylist,i,mid,max_ele,min_ele)\n",
    "        (max_ele,min_ele) =   max_min(mylist,mid+1,j,max_ele,min_ele)\n",
    "        return(max_ele,min_ele)\n",
    "    "
   ]
  },
  {
   "cell_type": "code",
   "execution_count": null,
   "metadata": {},
   "outputs": [],
   "source": [
    "mylist = []\n",
    "n = int(input(\"Enter the no. elements you want in your list:\"))\n",
    "for i in range(0,n):\n",
    "    ele = int(input())\n",
    "    mylist.append(ele)\n",
    "print(mylist)\n",
    "i = 0\n",
    "j = n-1\n",
    "print(j)\n",
    "max_ele = 0\n",
    "min_ele = 0\n",
    "(max_ele,min_ele) = max_min(mylist,i,j,max_ele,min_ele)\n",
    "print(f'MAX:{max_ele}')\n",
    "print(f'MIN:{min_ele}')"
   ]
  },
  {
   "cell_type": "code",
   "execution_count": null,
   "metadata": {},
   "outputs": [],
   "source": [
    "# Power of an element\n",
    "def power(no,n):\n",
    "    if n==0:\n",
    "        return 1\n",
    "    if n==1:\n",
    "        return(no)\n",
    "    else:\n",
    "        \n",
    "        a = n/2\n",
    "        result = power(no,a/2)\n",
    "        result_1 = power(no,a/2)\n",
    "        all_result = result*result_1\n",
    "        return(all_result)"
   ]
  },
  {
   "cell_type": "code",
   "execution_count": null,
   "metadata": {},
   "outputs": [],
   "source": [
    "no = int(input(\"Enter the no.\"))\n",
    "n = int(input(\"Enter the power.\"))\n",
    "power_ans = power(no,n)\n",
    "print(power_ans)"
   ]
  },
  {
   "cell_type": "code",
   "execution_count": null,
   "metadata": {},
   "outputs": [],
   "source": [
    "#Binary Search\n",
    "def Binary_search(mylist,a,b,element):\n",
    "    if a==b:\n",
    "        if element==mylist[a]:\n",
    "            print(\"element found\")\n",
    "        else:\n",
    "            print(\"element not found\")\n",
    "    else:\n",
    "        mid = (a+b)//2\n",
    "        if element == mylist[mid]:\n",
    "            print(\"element found\")\n",
    "        else:\n",
    "            if mylist[mid]>element:\n",
    "                Binary_search(mylist,a,mid,element)\n",
    "            else:\n",
    "                Binary_search(mylist,mid+1,b,element)"
   ]
  },
  {
   "cell_type": "code",
   "execution_count": null,
   "metadata": {},
   "outputs": [],
   "source": [
    "mylist = []\n",
    "n = int(input(\"enter the no. of elements you want to enter in list:\"))\n",
    "for i in range(0,n):\n",
    "    i = int(input())\n",
    "    mylist.append(i)\n",
    "print(mylist)\n",
    "new_list = sorted(mylist)\n",
    "print(new_list)\n",
    "if new_list == mylist:\n",
    "    print(\"input is correct:list has to be sorted\")\n",
    "else:\n",
    "    print(\"wrong input\")\n",
    "a = 0\n",
    "b = len(mylist) - 1\n",
    "element = int(input(\"enter the element you want to search\"))\n",
    "Binary_search(mylist,a,b,element)"
   ]
  },
  {
   "cell_type": "code",
   "execution_count": null,
   "metadata": {},
   "outputs": [],
   "source": [
    "#Merge Sort\n",
    "#all_list = [0,0,0,0]\n",
    "def Merge_sort(mylist1):\n",
    "    if len(mylist1)<=1:\n",
    "        return(mylist1)\n",
    "    else:\n",
    "        \n",
    "        mid = len(mylist1)//2\n",
    "        sort_list = mylist1[:mid]\n",
    "        sort_list1 = mylist1[mid:]\n",
    "        Merge_sort(sort_list)\n",
    "        Merge_sort(sort_list1)\n",
    "        #define no. elements\n",
    "        all_list = [0,0,0,0]\n",
    "        i = j = k = 0\n",
    "        while i<len(sort_list) and j<len(sort_list1):\n",
    "            if sort_list[i] < sort_list1[j]:\n",
    "                all_list[k] = sort_list[i]\n",
    "                i = i + 1\n",
    "            else:\n",
    "                all_list[k] = sort_list1[j]\n",
    "                j = j + 1\n",
    "            k = k + 1\n",
    "        \n",
    "        \n",
    "        while i<len(sort_list):\n",
    "            all_list[k] = sort_list[i]\n",
    "            i = i + 1\n",
    "            k = k + 1\n",
    "        while j<len(sort_list1):\n",
    "            all_list[k] = sort_list1[j]\n",
    "            j = j + 1\n",
    "            k = k +1\n",
    "#print_func(all_list)\n",
    "        print(all_list)    "
   ]
  },
  {
   "cell_type": "code",
   "execution_count": null,
   "metadata": {},
   "outputs": [],
   "source": [
    "if __name__ == '__main__':\n",
    "    mylist1 = []\n",
    "#print_sort = []\n",
    "    n = int(input(\"Enter the no. of elements:\"))\n",
    "    for i in range(0,n):\n",
    "        i = int(input())\n",
    "        mylist1.append(i)\n",
    "#first = 0\n",
    "    print(mylist1)\n",
    "    Merge_sort(mylist1)\n",
    "    "
   ]
  },
  {
   "cell_type": "code",
   "execution_count": 40,
   "metadata": {},
   "outputs": [],
   "source": [
    "#Quick SORT\n",
    "def Quick_sort(mylist,p,q):\n",
    "    if p == q:\n",
    "        #print(\"empty list\")\n",
    "        return(mylist)\n",
    "    #if q - p == 1:\n",
    "        #return(mylist)\n",
    "    if p<q:\n",
    "        index = Partition(mylist,p,q)\n",
    "        #L = mylist[:index]\n",
    "        #R = mylist[index+1:]\n",
    "        Quick_sort(mylist,p,index-1)\n",
    "        Quick_sort(mylist,index+1,q)\n",
    "#print(mylist)\n",
    "    return(mylist)"
   ]
  },
  {
   "cell_type": "code",
   "execution_count": 41,
   "metadata": {},
   "outputs": [],
   "source": [
    "def Partition(mylist,p,q):\n",
    "    #Considering first element as pivot\n",
    "    x = mylist[p]\n",
    "    i = p\n",
    "    #j = p+1\n",
    "    for j in range(p+1,q+1):\n",
    "        if mylist[j]<=x:\n",
    "            i = i + 1\n",
    "            #temp = 0\n",
    "            #temp = mylist[i]\n",
    "            mylist[i],mylist[j] = mylist[j],mylist[i]\n",
    "        else:\n",
    "            pass\n",
    "           \n",
    "    #y = mylist[i]\n",
    "    #swap_func(x,mylist[i])\n",
    "    #temp1 = 0\n",
    "    #temp1 = x\n",
    "    mylist[p],mylist[i] = mylist[i],mylist[p]\n",
    "    #mylist[i] = temp1\n",
    "    return(i)\n",
    "    print(i)\n",
    "        "
   ]
  },
  {
   "cell_type": "code",
   "execution_count": 43,
   "metadata": {},
   "outputs": [
    {
     "name": "stdout",
     "output_type": "stream",
     "text": [
      "Enter the no. of elements:8\n",
      "23\n",
      "76\n",
      "34\n",
      "12\n",
      "90\n",
      "65\n",
      "33\n",
      "11\n",
      "[11, 12, 23, 33, 34, 65, 76, 90]\n"
     ]
    }
   ],
   "source": [
    "\n",
    "    mylist = []\n",
    "    new_list = []\n",
    "    n = int(input(\"Enter the no. of elements:\"))\n",
    "    for i in range(0,n):\n",
    "        i = int(input())\n",
    "        mylist.append(i)\n",
    "    #print(mylist[0])\n",
    "    #print(len(mylist))\n",
    "    p = 0\n",
    "    q = len(mylist) - 1\n",
    "    new_list = Quick_sort(mylist,p,q)\n",
    "    print(new_list)"
   ]
  },
  {
   "cell_type": "markdown",
   "metadata": {},
   "source": [
    " "
   ]
  }
 ],
 "metadata": {
  "kernelspec": {
   "display_name": "Python 3",
   "language": "python",
   "name": "python3"
  },
  "language_info": {
   "codemirror_mode": {
    "name": "ipython",
    "version": 3
   },
   "file_extension": ".py",
   "mimetype": "text/x-python",
   "name": "python",
   "nbconvert_exporter": "python",
   "pygments_lexer": "ipython3",
   "version": "3.7.4"
  }
 },
 "nbformat": 4,
 "nbformat_minor": 2
}
